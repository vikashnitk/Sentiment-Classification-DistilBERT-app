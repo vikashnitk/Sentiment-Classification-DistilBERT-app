{
 "cells": [
  {
   "cell_type": "code",
   "execution_count": 1,
   "id": "0f43add4",
   "metadata": {},
   "outputs": [
    {
     "name": "stderr",
     "output_type": "stream",
     "text": [
      "Matplotlib is building the font cache; this may take a moment.\n"
     ]
    }
   ],
   "source": [
    "import ktrain"
   ]
  },
  {
   "cell_type": "code",
   "execution_count": 2,
   "id": "ace18434",
   "metadata": {},
   "outputs": [],
   "source": [
    "predictor = ktrain.load_predictor('distilbert')"
   ]
  },
  {
   "cell_type": "code",
   "execution_count": 5,
   "id": "71a1a867",
   "metadata": {},
   "outputs": [],
   "source": [
    "data = ['This movie is really disaster.']"
   ]
  },
  {
   "cell_type": "code",
   "execution_count": 7,
   "id": "0635d941",
   "metadata": {},
   "outputs": [
    {
     "name": "stdout",
     "output_type": "stream",
     "text": [
      "Wall time: 331 ms\n"
     ]
    },
    {
     "data": {
      "text/plain": [
       "['neg']"
      ]
     },
     "execution_count": 7,
     "metadata": {},
     "output_type": "execute_result"
    }
   ],
   "source": [
    "%%time\n",
    "predictor.predict(data)"
   ]
  },
  {
   "cell_type": "code",
   "execution_count": 8,
   "id": "747cbebd",
   "metadata": {},
   "outputs": [
    {
     "name": "stdout",
     "output_type": "stream",
     "text": [
      "224 ms ± 43.1 ms per loop (mean ± std. dev. of 7 runs, 1 loop each)\n"
     ]
    }
   ],
   "source": [
    "%%timeit\n",
    "predictor.predict(data)"
   ]
  },
  {
   "cell_type": "code",
   "execution_count": 1,
   "id": "253996ac",
   "metadata": {},
   "outputs": [],
   "source": [
    "import requests\n",
    "import json"
   ]
  },
  {
   "cell_type": "code",
   "execution_count": 2,
   "id": "e9c8b06a",
   "metadata": {},
   "outputs": [
    {
     "name": "stdout",
     "output_type": "stream",
     "text": [
      "<Response [200]>\n",
      "Congrats! Server is working\n"
     ]
    }
   ],
   "source": [
    "host = 'localhost'\n",
    "port = 5000\n",
    "\n",
    "url = \"http://localhost:5000/\"\n",
    "\n",
    "x = requests.get(url)\n",
    "print(x)\n",
    "print(x.text)"
   ]
  },
  {
   "cell_type": "code",
   "execution_count": 3,
   "id": "7653d420",
   "metadata": {},
   "outputs": [],
   "source": [
    "data = {'Review': 'This movie is great'}\n",
    "data = json.dumps(data)"
   ]
  },
  {
   "cell_type": "code",
   "execution_count": 4,
   "id": "a1ebb44a",
   "metadata": {},
   "outputs": [
    {
     "data": {
      "text/plain": [
       "'{\"Review\": \"This movie is great\"}'"
      ]
     },
     "execution_count": 4,
     "metadata": {},
     "output_type": "execute_result"
    }
   ],
   "source": [
    "data"
   ]
  },
  {
   "cell_type": "code",
   "execution_count": 5,
   "id": "2a37b388",
   "metadata": {},
   "outputs": [
    {
     "name": "stdout",
     "output_type": "stream",
     "text": [
      "{\n",
      "  \"result\": \"pos\"\n",
      "}\n",
      "\n"
     ]
    }
   ],
   "source": [
    "url = \"http://34.216.221.65:5000/get_sentiment\"\n",
    "\n",
    "x = requests.post(url, data)\n",
    "# print(x)\n",
    "print(x.text)"
   ]
  },
  {
   "cell_type": "code",
   "execution_count": 18,
   "id": "89457ac7",
   "metadata": {},
   "outputs": [
    {
     "data": {
      "text/plain": [
       "{'result': 'pos'}"
      ]
     },
     "execution_count": 18,
     "metadata": {},
     "output_type": "execute_result"
    }
   ],
   "source": [
    "json.loads(x.text)"
   ]
  },
  {
   "cell_type": "code",
   "execution_count": null,
   "id": "4e6aa63c",
   "metadata": {},
   "outputs": [],
   "source": []
  }
 ],
 "metadata": {
  "kernelspec": {
   "display_name": "Python 3",
   "language": "python",
   "name": "python3"
  },
  "language_info": {
   "codemirror_mode": {
    "name": "ipython",
    "version": 3
   },
   "file_extension": ".py",
   "mimetype": "text/x-python",
   "name": "python",
   "nbconvert_exporter": "python",
   "pygments_lexer": "ipython3",
   "version": "3.7.10"
  }
 },
 "nbformat": 4,
 "nbformat_minor": 5
}
